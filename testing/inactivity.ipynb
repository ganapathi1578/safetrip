{
 "cells": [
  {
   "cell_type": "code",
   "execution_count": null,
   "id": "6eb359be",
   "metadata": {},
   "outputs": [
    {
     "name": "stdout",
     "output_type": "stream",
     "text": [
      "model loaded successfully.\n"
     ]
    },
    {
     "name": "stderr",
     "output_type": "stream",
     "text": [
      "c:\\Users\\GANAPATHI\\anaconda3\\envs\\env_ml_learning_1\\Lib\\site-packages\\sklearn\\base.py:380: InconsistentVersionWarning: Trying to unpickle estimator LogisticRegression from version 1.5.2 when using version 1.6.1. This might lead to breaking code or invalid results. Use at your own risk. For more info please refer to:\n",
      "https://scikit-learn.org/stable/model_persistence.html#security-maintainability-limitations\n",
      "  warnings.warn(\n"
     ]
    }
   ],
   "source": [
    "import joblib\n",
    "import datetime\n",
    "import numpy as np\n",
    "\n",
    "model = joblib.load(\"best_model.pkl\")\n",
    "print(\"model loaded successfully.\")\n",
    "\n",
    "threshold_time = 3600  \n",
    "radius = 0         \n",
    "\n",
    "def fetch_cur_location():\n",
    "    pass\n",
    "\n",
    "def fetch_hotel_location():\n",
    "    pass\n",
    "\n",
    "def fetch_risk_score():\n",
    "    pass\n",
    "\n",
    "def inside_hotel(lat, lon):\n",
    "    hotel_lat, hotel_lon = fetch_hotel_location()\n",
    "    \n",
    "    if (hotel_lat - lat)**2 + (hotel_lon - lon)**2 <= radius**2:\n",
    "        return True\n",
    "    return False\n",
    "\n",
    "def anomaly_detection(time_of_inactivity):\n",
    "\n",
    "    if time_of_inactivity <= threshold_time:\n",
    "        return 0  \n",
    "    \n",
    "    lat, lon = fetch_cur_location()\n",
    "\n",
    "    if inside_hotel(lat, lon):\n",
    "        return 0  \n",
    "\n",
    "    \n",
    "    now = datetime.datetime.now()\n",
    "    hour = now.hour\n",
    "    day_of_week = now.weekday()\n",
    "\n",
    "    \n",
    "    hour_sin = np.sin(2 * np.pi * hour / 24)\n",
    "    hour_cos = np.cos(2 * np.pi * hour / 24)\n",
    "    day_sin = np.sin(2 * np.pi * day_of_week / 7)\n",
    "    day_cos = np.cos(2 * np.pi * day_of_week / 7)\n",
    "\n",
    "    risk_score = fetch_risk_score()\n",
    "\n",
    "    features = np.array([[lat, lon, hour_sin, hour_cos, day_sin, day_cos, risk_score, time_of_inactivity]])\n",
    "\n",
    "    prob = model.predict_proba(features)[:, 1][0]\n",
    "     \n",
    "    return prob"
   ]
  },
  {
   "cell_type": "code",
   "execution_count": 19,
   "id": "09073190",
   "metadata": {},
   "outputs": [
    {
     "name": "stderr",
     "output_type": "stream",
     "text": [
      "c:\\Users\\GANAPATHI\\anaconda3\\envs\\env_ml_learning_1\\Lib\\site-packages\\sklearn\\utils\\validation.py:2739: UserWarning: X does not have valid feature names, but LogisticRegression was fitted with feature names\n",
      "  warnings.warn(\n"
     ]
    },
    {
     "data": {
      "text/plain": [
       "0.47030835949089295"
      ]
     },
     "execution_count": 19,
     "metadata": {},
     "output_type": "execute_result"
    }
   ],
   "source": [
    "anomaly_detection(3800)"
   ]
  },
  {
   "cell_type": "code",
   "execution_count": null,
   "id": "e3643e6a",
   "metadata": {},
   "outputs": [],
   "source": []
  }
 ],
 "metadata": {
  "kernelspec": {
   "display_name": "env_ml_learning_1",
   "language": "python",
   "name": "python3"
  },
  "language_info": {
   "codemirror_mode": {
    "name": "ipython",
    "version": 3
   },
   "file_extension": ".py",
   "mimetype": "text/x-python",
   "name": "python",
   "nbconvert_exporter": "python",
   "pygments_lexer": "ipython3",
   "version": "3.12.3"
  }
 },
 "nbformat": 4,
 "nbformat_minor": 5
}
